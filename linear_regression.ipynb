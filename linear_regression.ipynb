{
 "cells": [
  {
   "cell_type": "markdown",
   "metadata": {},
   "source": [
    "# Linear Regression using python"
   ]
  },
  {
   "cell_type": "markdown",
   "metadata": {},
   "source": [
    "This is a program to predict the brain weight of a person depending upon his/her head size. The dependent variable here is the brain weight and the independent variable is the head size. \n",
    "\n",
    "The following code is a direct mathematical implementation of linear regression without the use of machine learning libraries.\n",
    "Only data gathering, manipulation and visualization libraries are used in this example."
   ]
  },
  {
   "cell_type": "code",
   "execution_count": 3,
   "metadata": {},
   "outputs": [],
   "source": [
    "# imports and initializations\n",
    "\n",
    "%matplotlib inline\n",
    "import numpy as np\n",
    "import pandas as pd\n",
    "from matplotlib import pyplot as plt\n",
    "plt.rcParams['figure.figsize'] = (20.0, 10.0)"
   ]
  },
  {
   "cell_type": "markdown",
   "metadata": {},
   "source": [
    "## Collection of the data"
   ]
  },
  {
   "cell_type": "markdown",
   "metadata": {},
   "source": [
    "To collect the data, I am using the pandas library and reading the csv file using the funtion read_csv provided by pandas. The collected dataframe is stored in the data variable and consequently, the data.shape shows the rows and columns in the collected dataframe. The data.head() function prints a part of the dataframe in a tabular form."
   ]
  },
  {
   "cell_type": "code",
   "execution_count": 4,
   "metadata": {},
   "outputs": [
    {
     "name": "stdout",
     "output_type": "stream",
     "text": [
      "(237, 4)\n"
     ]
    },
    {
     "data": {
      "text/html": [
       "<div>\n",
       "<style scoped>\n",
       "    .dataframe tbody tr th:only-of-type {\n",
       "        vertical-align: middle;\n",
       "    }\n",
       "\n",
       "    .dataframe tbody tr th {\n",
       "        vertical-align: top;\n",
       "    }\n",
       "\n",
       "    .dataframe thead th {\n",
       "        text-align: right;\n",
       "    }\n",
       "</style>\n",
       "<table border=\"1\" class=\"dataframe\">\n",
       "  <thead>\n",
       "    <tr style=\"text-align: right;\">\n",
       "      <th></th>\n",
       "      <th>Gender</th>\n",
       "      <th>Age Range</th>\n",
       "      <th>Head Size(cm^3)</th>\n",
       "      <th>Brain Weight(grams)</th>\n",
       "    </tr>\n",
       "  </thead>\n",
       "  <tbody>\n",
       "    <tr>\n",
       "      <th>0</th>\n",
       "      <td>1</td>\n",
       "      <td>1</td>\n",
       "      <td>4512</td>\n",
       "      <td>1530</td>\n",
       "    </tr>\n",
       "    <tr>\n",
       "      <th>1</th>\n",
       "      <td>1</td>\n",
       "      <td>1</td>\n",
       "      <td>3738</td>\n",
       "      <td>1297</td>\n",
       "    </tr>\n",
       "    <tr>\n",
       "      <th>2</th>\n",
       "      <td>1</td>\n",
       "      <td>1</td>\n",
       "      <td>4261</td>\n",
       "      <td>1335</td>\n",
       "    </tr>\n",
       "    <tr>\n",
       "      <th>3</th>\n",
       "      <td>1</td>\n",
       "      <td>1</td>\n",
       "      <td>3777</td>\n",
       "      <td>1282</td>\n",
       "    </tr>\n",
       "    <tr>\n",
       "      <th>4</th>\n",
       "      <td>1</td>\n",
       "      <td>1</td>\n",
       "      <td>4177</td>\n",
       "      <td>1590</td>\n",
       "    </tr>\n",
       "  </tbody>\n",
       "</table>\n",
       "</div>"
      ],
      "text/plain": [
       "   Gender  Age Range  Head Size(cm^3)  Brain Weight(grams)\n",
       "0       1          1             4512                 1530\n",
       "1       1          1             3738                 1297\n",
       "2       1          1             4261                 1335\n",
       "3       1          1             3777                 1282\n",
       "4       1          1             4177                 1590"
      ]
     },
     "execution_count": 4,
     "metadata": {},
     "output_type": "execute_result"
    }
   ],
   "source": [
    "# reading the csv file for gathering the data\n",
    "data = pd.read_csv('./assets/headbrain.csv')\n",
    "print(data.shape)\n",
    "data.head()"
   ]
  },
  {
   "cell_type": "markdown",
   "metadata": {},
   "source": [
    "## Collecting the Dependent and Independent Variables"
   ]
  },
  {
   "cell_type": "markdown",
   "metadata": {},
   "source": [
    "The independent variable in this example is the head size. Thus, It will be plotted on the x- axis of the regression plot. Subsequently, the dependent variable is the brain weight which will be plotted on the y- axis. "
   ]
  },
  {
   "cell_type": "code",
   "execution_count": 5,
   "metadata": {},
   "outputs": [],
   "source": [
    "# Collecting X and Y values from the dataframe\n",
    "X = data['Head Size(cm^3)'].values\n",
    "Y = data['Brain Weight(grams)'].values"
   ]
  },
  {
   "cell_type": "markdown",
   "metadata": {},
   "source": [
    "## Mathematical Implementation of Linear Regression"
   ]
  },
  {
   "cell_type": "markdown",
   "metadata": {},
   "source": [
    "The mathematical implementation of the Algorithm is explained below:\n",
    "\n",
    "### Equation of the Regression Line\n",
    "    y = mx + c, is the equation of the Regression Line \n",
    "    where,\n",
    "    y -> dependent variable, or the value being predicted by the predictor\n",
    "    x -> independent variable\n",
    "    m -> slope of the regression line\n",
    "    c -> y intercept\n",
    "\n",
    "### Formulae required for the Algorithm\n",
    "\n",
    "\n",
    "The following formulae are to be used for finding the linear regression line using the Least Squared Method:\n",
    "\n",
    "#### 1. Finding the slope and y- intercept of the best fit line\n",
    "##### a. Slope, m:\n",
    "$$\n",
    "    m = \\frac{\\sum{(x-\\bar x)(y-\\bar y)}}{\\sum{(x-\\bar x)^2}}\n",
    "$$\n",
    "where, $ \\bar x $ and $ \\bar y $ are the mean of x and y respectively\n",
    "##### b. y-intercept, c:\n",
    "$$\n",
    "    c = \\bar y - m \\cdot \\bar x \n",
    "$$\n",
    "\n",
    "#### 2. Goodness of fit using the $ R^2 $ method\n",
    "\n",
    "Checking the best fit line for its accuracy. R-squared value is a statistical measure of how close the data are to the fitted regression line. It is also known as the coefficient of determination, or the coefficient of multiple determination. Generally, the higher the $ R^2 $ value, the better the model and inversely, the lower it is, the worse the model. This however, is not a stringent rule and a model can have a low $ R^2 $ value and still be a good model and vice versa.\n",
    "\n",
    "The following formula is used to calculate the R-squared (or, $ R^2 $ ) value:\n",
    "\n",
    "$$\n",
    "  R^2 = \\frac{\\sum{(y_p - \\bar y)^2}}{\\sum{(y - \\bar y)^2}}\n",
    "$$"
   ]
  },
  {
   "cell_type": "markdown",
   "metadata": {},
   "source": [
    "## 1. Finding the best fit line"
   ]
  },
  {
   "cell_type": "code",
   "execution_count": 6,
   "metadata": {},
   "outputs": [
    {
     "name": "stdout",
     "output_type": "stream",
     "text": [
      "m = 0.26342933948939945 c = 325.57342104944223\n"
     ]
    }
   ],
   "source": [
    "# finding the mean of X and Y\n",
    "\n",
    "mean_x = np.mean(X)\n",
    "mean_y = np.mean(Y)\n",
    "\n",
    "# total number of values in the dataframe\n",
    "\n",
    "n = len(X)\n",
    "\n",
    "# As per the formula for finding the slope of the best fit line given in notes above\n",
    "\n",
    "numer = 0\n",
    "denom = 0\n",
    "for i in range(n):\n",
    "    numer += (X[i] - mean_x) * (Y[i] - mean_y)\n",
    "    denom += (X[i] - mean_x) ** 2\n",
    "m = numer / denom\n",
    "c = mean_y - (m * mean_x)\n",
    "\n",
    "# Print the coefficients\n",
    "print(\"m =\", m, \"c =\",  c)"
   ]
  },
  {
   "cell_type": "markdown",
   "metadata": {},
   "source": [
    "## Using matplotlib to visualize the results of the Linear Regression Algorithm"
   ]
  },
  {
   "cell_type": "markdown",
   "metadata": {},
   "source": [
    "The following graph shows the best fit line to show the regression and a set of scatter points to show the actual values in the data set. "
   ]
  },
  {
   "cell_type": "code",
   "execution_count": 7,
   "metadata": {},
   "outputs": [
    {
     "data": {
      "image/png": "[encoded data removed]",
      "text/plain": [
       "<Figure size 1440x720 with 1 Axes>"
      ]
     },
     "metadata": {
      "needs_background": "light"
     },
     "output_type": "display_data"
    }
   ],
   "source": [
    "# Plotting the actual values and the regression line of best fit\n",
    "\n",
    "max_x = np.max(X) + 100\n",
    "min_x = np.min(X) + 100\n",
    "\n",
    "# Calculating the line values x and y\n",
    "x = np.linspace(min_x, max_x, 1000) # return evenly spaced numbers withing given range (min x to max x interval = 1000)\n",
    "y = m * x + c\n",
    "\n",
    "# Plotting the regression line\n",
    "plt.plot(x, y, color='blue', label='Regression Line')\n",
    "# Plotting the scatter points\n",
    "plt.scatter(X, Y, c='orange', label='Scatter Plot')\n",
    "\n",
    "# Setting up the labels, title andlegend of the figure\n",
    "plt.title('Trend line of brain weight based on the head size of people')\n",
    "plt.xlabel('Head size in cubic centimeters (cc)')\n",
    "plt.ylabel('Brain Weight in grams (g)')\n",
    "plt.legend()\n",
    "plt.show()"
   ]
  },
  {
   "cell_type": "markdown",
   "metadata": {},
   "source": [
    "## 2. Goodness of fit"
   ]
  },
  {
   "cell_type": "markdown",
   "metadata": {},
   "source": [
    "Lets find the measure of $ R^2 $ to determine the performance of our model."
   ]
  },
  {
   "cell_type": "code",
   "execution_count": 8,
   "metadata": {},
   "outputs": [
    {
     "name": "stdout",
     "output_type": "stream",
     "text": [
      "0.6393117199570001\n"
     ]
    }
   ],
   "source": [
    "# total sum of squares of residuals, numerator of the R-squared formula given in notes above\n",
    "ss_r = 0 \n",
    "# total sum of squares,  denominator of the R-squared formula given in notes above\n",
    "ss_t = 0\n",
    "\n",
    "# As per the R-squared formula, given in the notes above\n",
    "for i in range(n):\n",
    "    y_pred = c + m * X[i]\n",
    "    # summation of the numerator\n",
    "    ss_r +=  (y_pred - mean_y) ** 2\n",
    "    # summation of the denominator\n",
    "    ss_t += (Y[i] - mean_y) ** 2\n",
    "        \n",
    "# R-squared\n",
    "r2 = (ss_r/ ss_t)\n",
    "\n",
    "# Printing the resultant Goodness of Fit\n",
    "print(r2)"
   ]
  },
  {
   "cell_type": "markdown",
   "metadata": {},
   "source": [
    "# Using Scikit Learn to Calculate the R2-score "
   ]
  },
  {
   "cell_type": "markdown",
   "metadata": {},
   "source": [
    "We found the best fit line and $ R^2 $ score of our model in the previous step by using the mathematical formula. In this section, we shall use the Scikit Library to achieve the same using its inbuilt methods"
   ]
  },
  {
   "cell_type": "code",
   "execution_count": 9,
   "metadata": {},
   "outputs": [
    {
     "name": "stdout",
     "output_type": "stream",
     "text": [
      "0.639311719957\n"
     ]
    }
   ],
   "source": [
    "# imports for the scikit library\n",
    "\n",
    "from sklearn.linear_model import LinearRegression\n",
    "from sklearn.metrics import mean_squared_error\n",
    "\n",
    "# Since Rank 1 matrices are unusable in sklearn, we have to reshape it\n",
    "X1 = X.reshape((n, 1))\n",
    "\n",
    "# Creating our model\n",
    "reg = LinearRegression()\n",
    "\n",
    "# Fitting the training data\n",
    "reg = reg.fit(X1, Y)\n",
    "\n",
    "# Prediction of Y\n",
    "Y_pred = reg.predict(X1)\n",
    "\n",
    "# Calculating R2 score\n",
    "r2_score =  reg.score(X1, Y)\n",
    "\n",
    "print(r2_score)"
   ]
  }
 ],
 "metadata": {
  "kernelspec": {
   "display_name": "Python 3",
   "language": "python",
   "name": "python3"
  },
  "language_info": {
   "codemirror_mode": {
    "name": "ipython",
    "version": 3
   },
   "file_extension": ".py",
   "mimetype": "text/x-python",
   "name": "python",
   "nbconvert_exporter": "python",
   "pygments_lexer": "ipython3",
   "version": "3.7.6"
  }
 },
 "nbformat": 4,
 "nbformat_minor": 4
}
